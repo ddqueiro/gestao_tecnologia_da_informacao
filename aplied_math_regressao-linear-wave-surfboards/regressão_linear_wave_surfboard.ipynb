{
  "cells": [
    {
      "cell_type": "markdown",
      "source": [
        "# Previsão de Demanda com Regressão Linear — Wave Surfboards"
      ],
      "metadata": {
        "id": "tN9GBAm4Ghv5"
      },
      "id": "tN9GBAm4Ghv5"
    },
    {
      "cell_type": "markdown",
      "id": "30e9858e",
      "metadata": {
        "id": "30e9858e"
      },
      "source": [
        "\n",
        "#1. Introdução\n",
        "\n",
        "No cenário competitivo atual, a capacidade de prever a demanda por produtos é um diferencial estratégico para empresas que buscam otimizar seus processos de produção, logística e vendas.\n",
        "\n",
        "A Wave Surfboards, uma empresa fictícia especializada na fabricação e comercialização de pranchas de surfe, enfrenta o desafio de alinhar sua produção às oscilações de mercado, que são influenciadas por variáveis como condições climáticas e investimentos em marketing.\n",
        "\n",
        "\n",
        "Este estudo propõe a aplicação de técnicas de Regressão Linear, utilizando bibliotecas como NumPy, Pandas, SciPy e Scikit-learn, para construir um modelo preditivo capaz de estimar as vendas mensais da Wave Surfboards com base em dados históricos de temperatura média e investimento em marketing. A abordagem visa demonstrar como a Matemática Aplicada e a Ciência de Dados podem oferecer soluções práticas e eficientes para desafios reais enfrentados pela Wave.\n",
        "\n"
      ]
    },
    {
      "cell_type": "markdown",
      "source": [
        "#2. Preparação do ambiente"
      ],
      "metadata": {
        "id": "HZbAB1ITHl8h"
      },
      "id": "HZbAB1ITHl8h"
    },
    {
      "cell_type": "markdown",
      "source": [
        "##2.1.  Importação das bibliotecas"
      ],
      "metadata": {
        "id": "pUol17kfwkiL"
      },
      "id": "pUol17kfwkiL"
    },
    {
      "cell_type": "code",
      "execution_count": 52,
      "id": "0a3b6b79",
      "metadata": {
        "id": "0a3b6b79"
      },
      "outputs": [],
      "source": [
        "\n",
        "import pandas as pd\n",
        "import matplotlib.pyplot as plt\n",
        "import seaborn as sns\n",
        "import statsmodels.api as sm\n",
        "from sklearn.linear_model import LinearRegression\n",
        "from sklearn.metrics import r2_score\n",
        "import numpy as np\n",
        "from sklearn.metrics import mean_absolute_error, mean_squared_error, r2_score\n",
        "\n"
      ]
    },
    {
      "cell_type": "markdown",
      "source": [
        "# 3. Carregamento e Exploração dos Dados"
      ],
      "metadata": {
        "id": "hGJbw7_2wpuC"
      },
      "id": "hGJbw7_2wpuC"
    },
    {
      "cell_type": "markdown",
      "source": [
        "##3.1. Apresentação dos dados"
      ],
      "metadata": {
        "id": "vcI3qFXVHzBE"
      },
      "id": "vcI3qFXVHzBE"
    },
    {
      "cell_type": "code",
      "execution_count": 3,
      "id": "d0eabf55",
      "metadata": {
        "colab": {
          "base_uri": "https://localhost:8080/",
          "height": 425
        },
        "id": "d0eabf55",
        "outputId": "5cd8bef0-6296-4350-f96e-1573c6a46621"
      },
      "outputs": [
        {
          "output_type": "execute_result",
          "data": {
            "text/plain": [
              "    temperatura media  investimento marketing  vendas mensais\n",
              "0                25.0                    5000             120\n",
              "1                26.5                    5500             135\n",
              "2                28.0                    6000             150\n",
              "3                29.5                    6500             160\n",
              "4                27.0                    6200             145\n",
              "5                26.0                    5800             155\n",
              "6                25.5                    6300             170\n",
              "7                24.0                    6700             180\n",
              "8                23.5                    6400             175\n",
              "9                22.0                    6100             165\n",
              "10               21.5                    5900             155\n",
              "11               22.5                    6000             160"
            ],
            "text/html": [
              "\n",
              "  <div id=\"df-5384bfeb-9cf4-4a5a-9473-77d7d24d85ac\" class=\"colab-df-container\">\n",
              "    <div>\n",
              "<style scoped>\n",
              "    .dataframe tbody tr th:only-of-type {\n",
              "        vertical-align: middle;\n",
              "    }\n",
              "\n",
              "    .dataframe tbody tr th {\n",
              "        vertical-align: top;\n",
              "    }\n",
              "\n",
              "    .dataframe thead th {\n",
              "        text-align: right;\n",
              "    }\n",
              "</style>\n",
              "<table border=\"1\" class=\"dataframe\">\n",
              "  <thead>\n",
              "    <tr style=\"text-align: right;\">\n",
              "      <th></th>\n",
              "      <th>temperatura media</th>\n",
              "      <th>investimento marketing</th>\n",
              "      <th>vendas mensais</th>\n",
              "    </tr>\n",
              "  </thead>\n",
              "  <tbody>\n",
              "    <tr>\n",
              "      <th>0</th>\n",
              "      <td>25.0</td>\n",
              "      <td>5000</td>\n",
              "      <td>120</td>\n",
              "    </tr>\n",
              "    <tr>\n",
              "      <th>1</th>\n",
              "      <td>26.5</td>\n",
              "      <td>5500</td>\n",
              "      <td>135</td>\n",
              "    </tr>\n",
              "    <tr>\n",
              "      <th>2</th>\n",
              "      <td>28.0</td>\n",
              "      <td>6000</td>\n",
              "      <td>150</td>\n",
              "    </tr>\n",
              "    <tr>\n",
              "      <th>3</th>\n",
              "      <td>29.5</td>\n",
              "      <td>6500</td>\n",
              "      <td>160</td>\n",
              "    </tr>\n",
              "    <tr>\n",
              "      <th>4</th>\n",
              "      <td>27.0</td>\n",
              "      <td>6200</td>\n",
              "      <td>145</td>\n",
              "    </tr>\n",
              "    <tr>\n",
              "      <th>5</th>\n",
              "      <td>26.0</td>\n",
              "      <td>5800</td>\n",
              "      <td>155</td>\n",
              "    </tr>\n",
              "    <tr>\n",
              "      <th>6</th>\n",
              "      <td>25.5</td>\n",
              "      <td>6300</td>\n",
              "      <td>170</td>\n",
              "    </tr>\n",
              "    <tr>\n",
              "      <th>7</th>\n",
              "      <td>24.0</td>\n",
              "      <td>6700</td>\n",
              "      <td>180</td>\n",
              "    </tr>\n",
              "    <tr>\n",
              "      <th>8</th>\n",
              "      <td>23.5</td>\n",
              "      <td>6400</td>\n",
              "      <td>175</td>\n",
              "    </tr>\n",
              "    <tr>\n",
              "      <th>9</th>\n",
              "      <td>22.0</td>\n",
              "      <td>6100</td>\n",
              "      <td>165</td>\n",
              "    </tr>\n",
              "    <tr>\n",
              "      <th>10</th>\n",
              "      <td>21.5</td>\n",
              "      <td>5900</td>\n",
              "      <td>155</td>\n",
              "    </tr>\n",
              "    <tr>\n",
              "      <th>11</th>\n",
              "      <td>22.5</td>\n",
              "      <td>6000</td>\n",
              "      <td>160</td>\n",
              "    </tr>\n",
              "  </tbody>\n",
              "</table>\n",
              "</div>\n",
              "    <div class=\"colab-df-buttons\">\n",
              "\n",
              "  <div class=\"colab-df-container\">\n",
              "    <button class=\"colab-df-convert\" onclick=\"convertToInteractive('df-5384bfeb-9cf4-4a5a-9473-77d7d24d85ac')\"\n",
              "            title=\"Convert this dataframe to an interactive table.\"\n",
              "            style=\"display:none;\">\n",
              "\n",
              "  <svg xmlns=\"http://www.w3.org/2000/svg\" height=\"24px\" viewBox=\"0 -960 960 960\">\n",
              "    <path d=\"M120-120v-720h720v720H120Zm60-500h600v-160H180v160Zm220 220h160v-160H400v160Zm0 220h160v-160H400v160ZM180-400h160v-160H180v160Zm440 0h160v-160H620v160ZM180-180h160v-160H180v160Zm440 0h160v-160H620v160Z\"/>\n",
              "  </svg>\n",
              "    </button>\n",
              "\n",
              "  <style>\n",
              "    .colab-df-container {\n",
              "      display:flex;\n",
              "      gap: 12px;\n",
              "    }\n",
              "\n",
              "    .colab-df-convert {\n",
              "      background-color: #E8F0FE;\n",
              "      border: none;\n",
              "      border-radius: 50%;\n",
              "      cursor: pointer;\n",
              "      display: none;\n",
              "      fill: #1967D2;\n",
              "      height: 32px;\n",
              "      padding: 0 0 0 0;\n",
              "      width: 32px;\n",
              "    }\n",
              "\n",
              "    .colab-df-convert:hover {\n",
              "      background-color: #E2EBFA;\n",
              "      box-shadow: 0px 1px 2px rgba(60, 64, 67, 0.3), 0px 1px 3px 1px rgba(60, 64, 67, 0.15);\n",
              "      fill: #174EA6;\n",
              "    }\n",
              "\n",
              "    .colab-df-buttons div {\n",
              "      margin-bottom: 4px;\n",
              "    }\n",
              "\n",
              "    [theme=dark] .colab-df-convert {\n",
              "      background-color: #3B4455;\n",
              "      fill: #D2E3FC;\n",
              "    }\n",
              "\n",
              "    [theme=dark] .colab-df-convert:hover {\n",
              "      background-color: #434B5C;\n",
              "      box-shadow: 0px 1px 3px 1px rgba(0, 0, 0, 0.15);\n",
              "      filter: drop-shadow(0px 1px 2px rgba(0, 0, 0, 0.3));\n",
              "      fill: #FFFFFF;\n",
              "    }\n",
              "  </style>\n",
              "\n",
              "    <script>\n",
              "      const buttonEl =\n",
              "        document.querySelector('#df-5384bfeb-9cf4-4a5a-9473-77d7d24d85ac button.colab-df-convert');\n",
              "      buttonEl.style.display =\n",
              "        google.colab.kernel.accessAllowed ? 'block' : 'none';\n",
              "\n",
              "      async function convertToInteractive(key) {\n",
              "        const element = document.querySelector('#df-5384bfeb-9cf4-4a5a-9473-77d7d24d85ac');\n",
              "        const dataTable =\n",
              "          await google.colab.kernel.invokeFunction('convertToInteractive',\n",
              "                                                    [key], {});\n",
              "        if (!dataTable) return;\n",
              "\n",
              "        const docLinkHtml = 'Like what you see? Visit the ' +\n",
              "          '<a target=\"_blank\" href=https://colab.research.google.com/notebooks/data_table.ipynb>data table notebook</a>'\n",
              "          + ' to learn more about interactive tables.';\n",
              "        element.innerHTML = '';\n",
              "        dataTable['output_type'] = 'display_data';\n",
              "        await google.colab.output.renderOutput(dataTable, element);\n",
              "        const docLink = document.createElement('div');\n",
              "        docLink.innerHTML = docLinkHtml;\n",
              "        element.appendChild(docLink);\n",
              "      }\n",
              "    </script>\n",
              "  </div>\n",
              "\n",
              "\n",
              "    <div id=\"df-bc902f9d-0f63-4157-9b25-853303e37e6c\">\n",
              "      <button class=\"colab-df-quickchart\" onclick=\"quickchart('df-bc902f9d-0f63-4157-9b25-853303e37e6c')\"\n",
              "                title=\"Suggest charts\"\n",
              "                style=\"display:none;\">\n",
              "\n",
              "<svg xmlns=\"http://www.w3.org/2000/svg\" height=\"24px\"viewBox=\"0 0 24 24\"\n",
              "     width=\"24px\">\n",
              "    <g>\n",
              "        <path d=\"M19 3H5c-1.1 0-2 .9-2 2v14c0 1.1.9 2 2 2h14c1.1 0 2-.9 2-2V5c0-1.1-.9-2-2-2zM9 17H7v-7h2v7zm4 0h-2V7h2v10zm4 0h-2v-4h2v4z\"/>\n",
              "    </g>\n",
              "</svg>\n",
              "      </button>\n",
              "\n",
              "<style>\n",
              "  .colab-df-quickchart {\n",
              "      --bg-color: #E8F0FE;\n",
              "      --fill-color: #1967D2;\n",
              "      --hover-bg-color: #E2EBFA;\n",
              "      --hover-fill-color: #174EA6;\n",
              "      --disabled-fill-color: #AAA;\n",
              "      --disabled-bg-color: #DDD;\n",
              "  }\n",
              "\n",
              "  [theme=dark] .colab-df-quickchart {\n",
              "      --bg-color: #3B4455;\n",
              "      --fill-color: #D2E3FC;\n",
              "      --hover-bg-color: #434B5C;\n",
              "      --hover-fill-color: #FFFFFF;\n",
              "      --disabled-bg-color: #3B4455;\n",
              "      --disabled-fill-color: #666;\n",
              "  }\n",
              "\n",
              "  .colab-df-quickchart {\n",
              "    background-color: var(--bg-color);\n",
              "    border: none;\n",
              "    border-radius: 50%;\n",
              "    cursor: pointer;\n",
              "    display: none;\n",
              "    fill: var(--fill-color);\n",
              "    height: 32px;\n",
              "    padding: 0;\n",
              "    width: 32px;\n",
              "  }\n",
              "\n",
              "  .colab-df-quickchart:hover {\n",
              "    background-color: var(--hover-bg-color);\n",
              "    box-shadow: 0 1px 2px rgba(60, 64, 67, 0.3), 0 1px 3px 1px rgba(60, 64, 67, 0.15);\n",
              "    fill: var(--button-hover-fill-color);\n",
              "  }\n",
              "\n",
              "  .colab-df-quickchart-complete:disabled,\n",
              "  .colab-df-quickchart-complete:disabled:hover {\n",
              "    background-color: var(--disabled-bg-color);\n",
              "    fill: var(--disabled-fill-color);\n",
              "    box-shadow: none;\n",
              "  }\n",
              "\n",
              "  .colab-df-spinner {\n",
              "    border: 2px solid var(--fill-color);\n",
              "    border-color: transparent;\n",
              "    border-bottom-color: var(--fill-color);\n",
              "    animation:\n",
              "      spin 1s steps(1) infinite;\n",
              "  }\n",
              "\n",
              "  @keyframes spin {\n",
              "    0% {\n",
              "      border-color: transparent;\n",
              "      border-bottom-color: var(--fill-color);\n",
              "      border-left-color: var(--fill-color);\n",
              "    }\n",
              "    20% {\n",
              "      border-color: transparent;\n",
              "      border-left-color: var(--fill-color);\n",
              "      border-top-color: var(--fill-color);\n",
              "    }\n",
              "    30% {\n",
              "      border-color: transparent;\n",
              "      border-left-color: var(--fill-color);\n",
              "      border-top-color: var(--fill-color);\n",
              "      border-right-color: var(--fill-color);\n",
              "    }\n",
              "    40% {\n",
              "      border-color: transparent;\n",
              "      border-right-color: var(--fill-color);\n",
              "      border-top-color: var(--fill-color);\n",
              "    }\n",
              "    60% {\n",
              "      border-color: transparent;\n",
              "      border-right-color: var(--fill-color);\n",
              "    }\n",
              "    80% {\n",
              "      border-color: transparent;\n",
              "      border-right-color: var(--fill-color);\n",
              "      border-bottom-color: var(--fill-color);\n",
              "    }\n",
              "    90% {\n",
              "      border-color: transparent;\n",
              "      border-bottom-color: var(--fill-color);\n",
              "    }\n",
              "  }\n",
              "</style>\n",
              "\n",
              "      <script>\n",
              "        async function quickchart(key) {\n",
              "          const quickchartButtonEl =\n",
              "            document.querySelector('#' + key + ' button');\n",
              "          quickchartButtonEl.disabled = true;  // To prevent multiple clicks.\n",
              "          quickchartButtonEl.classList.add('colab-df-spinner');\n",
              "          try {\n",
              "            const charts = await google.colab.kernel.invokeFunction(\n",
              "                'suggestCharts', [key], {});\n",
              "          } catch (error) {\n",
              "            console.error('Error during call to suggestCharts:', error);\n",
              "          }\n",
              "          quickchartButtonEl.classList.remove('colab-df-spinner');\n",
              "          quickchartButtonEl.classList.add('colab-df-quickchart-complete');\n",
              "        }\n",
              "        (() => {\n",
              "          let quickchartButtonEl =\n",
              "            document.querySelector('#df-bc902f9d-0f63-4157-9b25-853303e37e6c button');\n",
              "          quickchartButtonEl.style.display =\n",
              "            google.colab.kernel.accessAllowed ? 'block' : 'none';\n",
              "        })();\n",
              "      </script>\n",
              "    </div>\n",
              "\n",
              "  <div id=\"id_ccde5160-6bfe-4451-99f5-c8f440852367\">\n",
              "    <style>\n",
              "      .colab-df-generate {\n",
              "        background-color: #E8F0FE;\n",
              "        border: none;\n",
              "        border-radius: 50%;\n",
              "        cursor: pointer;\n",
              "        display: none;\n",
              "        fill: #1967D2;\n",
              "        height: 32px;\n",
              "        padding: 0 0 0 0;\n",
              "        width: 32px;\n",
              "      }\n",
              "\n",
              "      .colab-df-generate:hover {\n",
              "        background-color: #E2EBFA;\n",
              "        box-shadow: 0px 1px 2px rgba(60, 64, 67, 0.3), 0px 1px 3px 1px rgba(60, 64, 67, 0.15);\n",
              "        fill: #174EA6;\n",
              "      }\n",
              "\n",
              "      [theme=dark] .colab-df-generate {\n",
              "        background-color: #3B4455;\n",
              "        fill: #D2E3FC;\n",
              "      }\n",
              "\n",
              "      [theme=dark] .colab-df-generate:hover {\n",
              "        background-color: #434B5C;\n",
              "        box-shadow: 0px 1px 3px 1px rgba(0, 0, 0, 0.15);\n",
              "        filter: drop-shadow(0px 1px 2px rgba(0, 0, 0, 0.3));\n",
              "        fill: #FFFFFF;\n",
              "      }\n",
              "    </style>\n",
              "    <button class=\"colab-df-generate\" onclick=\"generateWithVariable('df')\"\n",
              "            title=\"Generate code using this dataframe.\"\n",
              "            style=\"display:none;\">\n",
              "\n",
              "  <svg xmlns=\"http://www.w3.org/2000/svg\" height=\"24px\"viewBox=\"0 0 24 24\"\n",
              "       width=\"24px\">\n",
              "    <path d=\"M7,19H8.4L18.45,9,17,7.55,7,17.6ZM5,21V16.75L18.45,3.32a2,2,0,0,1,2.83,0l1.4,1.43a1.91,1.91,0,0,1,.58,1.4,1.91,1.91,0,0,1-.58,1.4L9.25,21ZM18.45,9,17,7.55Zm-12,3A5.31,5.31,0,0,0,4.9,8.1,5.31,5.31,0,0,0,1,6.5,5.31,5.31,0,0,0,4.9,4.9,5.31,5.31,0,0,0,6.5,1,5.31,5.31,0,0,0,8.1,4.9,5.31,5.31,0,0,0,12,6.5,5.46,5.46,0,0,0,6.5,12Z\"/>\n",
              "  </svg>\n",
              "    </button>\n",
              "    <script>\n",
              "      (() => {\n",
              "      const buttonEl =\n",
              "        document.querySelector('#id_ccde5160-6bfe-4451-99f5-c8f440852367 button.colab-df-generate');\n",
              "      buttonEl.style.display =\n",
              "        google.colab.kernel.accessAllowed ? 'block' : 'none';\n",
              "\n",
              "      buttonEl.onclick = () => {\n",
              "        google.colab.notebook.generateWithVariable('df');\n",
              "      }\n",
              "      })();\n",
              "    </script>\n",
              "  </div>\n",
              "\n",
              "    </div>\n",
              "  </div>\n"
            ],
            "application/vnd.google.colaboratory.intrinsic+json": {
              "type": "dataframe",
              "variable_name": "df",
              "summary": "{\n  \"name\": \"df\",\n  \"rows\": 12,\n  \"fields\": [\n    {\n      \"column\": \"temperatura media\",\n      \"properties\": {\n        \"dtype\": \"number\",\n        \"std\": 2.4756388829528184,\n        \"min\": 21.5,\n        \"max\": 29.5,\n        \"num_unique_values\": 12,\n        \"samples\": [\n          21.5,\n          22.0,\n          25.0\n        ],\n        \"semantic_type\": \"\",\n        \"description\": \"\"\n      }\n    },\n    {\n      \"column\": \"investimento marketing\",\n      \"properties\": {\n        \"dtype\": \"number\",\n        \"std\": 459,\n        \"min\": 5000,\n        \"max\": 6700,\n        \"num_unique_values\": 11,\n        \"samples\": [\n          5800,\n          5000,\n          6100\n        ],\n        \"semantic_type\": \"\",\n        \"description\": \"\"\n      }\n    },\n    {\n      \"column\": \"vendas mensais\",\n      \"properties\": {\n        \"dtype\": \"number\",\n        \"std\": 16,\n        \"min\": 120,\n        \"max\": 180,\n        \"num_unique_values\": 10,\n        \"samples\": [\n          175,\n          135,\n          155\n        ],\n        \"semantic_type\": \"\",\n        \"description\": \"\"\n      }\n    }\n  ]\n}"
            }
          },
          "metadata": {},
          "execution_count": 3
        }
      ],
      "source": [
        "#Dados\n",
        "vendas_mensais = [120, 135, 150, 160, 145, 155, 170, 180, 175, 165, 155, 160]\n",
        "temperaturas_medias = [25.0, 26.5, 28.0, 29.5, 27.0, 26.0, 25.5, 24.0, 23.5, 22.0, 21.5, 22.5]\n",
        "investimento_marketing = [5000, 5500, 6000, 6500, 6200, 5800, 6300, 6700, 6400, 6100, 5900, 6000]\n",
        "\n",
        "# Criação do DataFrame\n",
        "df = pd.DataFrame({\n",
        "    \"temperatura media\": temperaturas_medias,\n",
        "    \"investimento marketing\": investimento_marketing,\n",
        "    \"vendas mensais\": vendas_mensais\n",
        "})\n",
        "\n",
        "df\n"
      ]
    },
    {
      "cell_type": "markdown",
      "source": [
        "## 3.2. Análises descritivas"
      ],
      "metadata": {
        "id": "5SnhxToZH8_w"
      },
      "id": "5SnhxToZH8_w"
    },
    {
      "cell_type": "markdown",
      "source": [
        "### a. Analise descritiva (describe)"
      ],
      "metadata": {
        "id": "E8VTf6_2IV-u"
      },
      "id": "E8VTf6_2IV-u"
    },
    {
      "cell_type": "markdown",
      "source": [
        "A análise descritiva é utilizada para compreender a distribuição básica\n",
        "e as principais características dos dados, auxiliando na identificação\n",
        "de padrões gerais, tendências e\n",
        "possíveis anomalias que possam impactar as etapas subsequentes da análise.\n",
        "\n"
      ],
      "metadata": {
        "id": "V-YQHffALrPm"
      },
      "id": "V-YQHffALrPm"
    },
    {
      "cell_type": "code",
      "source": [
        "display(df[['temperatura media','investimento marketing','vendas mensais']].describe())"
      ],
      "metadata": {
        "colab": {
          "base_uri": "https://localhost:8080/",
          "height": 300
        },
        "id": "UuAxBXgwyAk0",
        "outputId": "096166e3-7f66-4857-d606-bf1f038ff794"
      },
      "id": "UuAxBXgwyAk0",
      "execution_count": 22,
      "outputs": [
        {
          "output_type": "display_data",
          "data": {
            "text/plain": [
              "       temperatura media  investimento marketing  vendas mensais\n",
              "count          12.000000               12.000000       12.000000\n",
              "mean           25.083333             6033.333333      155.833333\n",
              "std             2.475639              459.907764       16.899883\n",
              "min            21.500000             5000.000000      120.000000\n",
              "25%            23.250000             5875.000000      148.750000\n",
              "50%            25.250000             6050.000000      157.500000\n",
              "75%            26.625000             6325.000000      166.250000\n",
              "max            29.500000             6700.000000      180.000000"
            ],
            "text/html": [
              "\n",
              "  <div id=\"df-95e8ac9d-7842-43e6-b9db-71dc9a96ee59\" class=\"colab-df-container\">\n",
              "    <div>\n",
              "<style scoped>\n",
              "    .dataframe tbody tr th:only-of-type {\n",
              "        vertical-align: middle;\n",
              "    }\n",
              "\n",
              "    .dataframe tbody tr th {\n",
              "        vertical-align: top;\n",
              "    }\n",
              "\n",
              "    .dataframe thead th {\n",
              "        text-align: right;\n",
              "    }\n",
              "</style>\n",
              "<table border=\"1\" class=\"dataframe\">\n",
              "  <thead>\n",
              "    <tr style=\"text-align: right;\">\n",
              "      <th></th>\n",
              "      <th>temperatura media</th>\n",
              "      <th>investimento marketing</th>\n",
              "      <th>vendas mensais</th>\n",
              "    </tr>\n",
              "  </thead>\n",
              "  <tbody>\n",
              "    <tr>\n",
              "      <th>count</th>\n",
              "      <td>12.000000</td>\n",
              "      <td>12.000000</td>\n",
              "      <td>12.000000</td>\n",
              "    </tr>\n",
              "    <tr>\n",
              "      <th>mean</th>\n",
              "      <td>25.083333</td>\n",
              "      <td>6033.333333</td>\n",
              "      <td>155.833333</td>\n",
              "    </tr>\n",
              "    <tr>\n",
              "      <th>std</th>\n",
              "      <td>2.475639</td>\n",
              "      <td>459.907764</td>\n",
              "      <td>16.899883</td>\n",
              "    </tr>\n",
              "    <tr>\n",
              "      <th>min</th>\n",
              "      <td>21.500000</td>\n",
              "      <td>5000.000000</td>\n",
              "      <td>120.000000</td>\n",
              "    </tr>\n",
              "    <tr>\n",
              "      <th>25%</th>\n",
              "      <td>23.250000</td>\n",
              "      <td>5875.000000</td>\n",
              "      <td>148.750000</td>\n",
              "    </tr>\n",
              "    <tr>\n",
              "      <th>50%</th>\n",
              "      <td>25.250000</td>\n",
              "      <td>6050.000000</td>\n",
              "      <td>157.500000</td>\n",
              "    </tr>\n",
              "    <tr>\n",
              "      <th>75%</th>\n",
              "      <td>26.625000</td>\n",
              "      <td>6325.000000</td>\n",
              "      <td>166.250000</td>\n",
              "    </tr>\n",
              "    <tr>\n",
              "      <th>max</th>\n",
              "      <td>29.500000</td>\n",
              "      <td>6700.000000</td>\n",
              "      <td>180.000000</td>\n",
              "    </tr>\n",
              "  </tbody>\n",
              "</table>\n",
              "</div>\n",
              "    <div class=\"colab-df-buttons\">\n",
              "\n",
              "  <div class=\"colab-df-container\">\n",
              "    <button class=\"colab-df-convert\" onclick=\"convertToInteractive('df-95e8ac9d-7842-43e6-b9db-71dc9a96ee59')\"\n",
              "            title=\"Convert this dataframe to an interactive table.\"\n",
              "            style=\"display:none;\">\n",
              "\n",
              "  <svg xmlns=\"http://www.w3.org/2000/svg\" height=\"24px\" viewBox=\"0 -960 960 960\">\n",
              "    <path d=\"M120-120v-720h720v720H120Zm60-500h600v-160H180v160Zm220 220h160v-160H400v160Zm0 220h160v-160H400v160ZM180-400h160v-160H180v160Zm440 0h160v-160H620v160ZM180-180h160v-160H180v160Zm440 0h160v-160H620v160Z\"/>\n",
              "  </svg>\n",
              "    </button>\n",
              "\n",
              "  <style>\n",
              "    .colab-df-container {\n",
              "      display:flex;\n",
              "      gap: 12px;\n",
              "    }\n",
              "\n",
              "    .colab-df-convert {\n",
              "      background-color: #E8F0FE;\n",
              "      border: none;\n",
              "      border-radius: 50%;\n",
              "      cursor: pointer;\n",
              "      display: none;\n",
              "      fill: #1967D2;\n",
              "      height: 32px;\n",
              "      padding: 0 0 0 0;\n",
              "      width: 32px;\n",
              "    }\n",
              "\n",
              "    .colab-df-convert:hover {\n",
              "      background-color: #E2EBFA;\n",
              "      box-shadow: 0px 1px 2px rgba(60, 64, 67, 0.3), 0px 1px 3px 1px rgba(60, 64, 67, 0.15);\n",
              "      fill: #174EA6;\n",
              "    }\n",
              "\n",
              "    .colab-df-buttons div {\n",
              "      margin-bottom: 4px;\n",
              "    }\n",
              "\n",
              "    [theme=dark] .colab-df-convert {\n",
              "      background-color: #3B4455;\n",
              "      fill: #D2E3FC;\n",
              "    }\n",
              "\n",
              "    [theme=dark] .colab-df-convert:hover {\n",
              "      background-color: #434B5C;\n",
              "      box-shadow: 0px 1px 3px 1px rgba(0, 0, 0, 0.15);\n",
              "      filter: drop-shadow(0px 1px 2px rgba(0, 0, 0, 0.3));\n",
              "      fill: #FFFFFF;\n",
              "    }\n",
              "  </style>\n",
              "\n",
              "    <script>\n",
              "      const buttonEl =\n",
              "        document.querySelector('#df-95e8ac9d-7842-43e6-b9db-71dc9a96ee59 button.colab-df-convert');\n",
              "      buttonEl.style.display =\n",
              "        google.colab.kernel.accessAllowed ? 'block' : 'none';\n",
              "\n",
              "      async function convertToInteractive(key) {\n",
              "        const element = document.querySelector('#df-95e8ac9d-7842-43e6-b9db-71dc9a96ee59');\n",
              "        const dataTable =\n",
              "          await google.colab.kernel.invokeFunction('convertToInteractive',\n",
              "                                                    [key], {});\n",
              "        if (!dataTable) return;\n",
              "\n",
              "        const docLinkHtml = 'Like what you see? Visit the ' +\n",
              "          '<a target=\"_blank\" href=https://colab.research.google.com/notebooks/data_table.ipynb>data table notebook</a>'\n",
              "          + ' to learn more about interactive tables.';\n",
              "        element.innerHTML = '';\n",
              "        dataTable['output_type'] = 'display_data';\n",
              "        await google.colab.output.renderOutput(dataTable, element);\n",
              "        const docLink = document.createElement('div');\n",
              "        docLink.innerHTML = docLinkHtml;\n",
              "        element.appendChild(docLink);\n",
              "      }\n",
              "    </script>\n",
              "  </div>\n",
              "\n",
              "\n",
              "    <div id=\"df-8da27462-2c58-4bd5-a82e-2fc6f9596145\">\n",
              "      <button class=\"colab-df-quickchart\" onclick=\"quickchart('df-8da27462-2c58-4bd5-a82e-2fc6f9596145')\"\n",
              "                title=\"Suggest charts\"\n",
              "                style=\"display:none;\">\n",
              "\n",
              "<svg xmlns=\"http://www.w3.org/2000/svg\" height=\"24px\"viewBox=\"0 0 24 24\"\n",
              "     width=\"24px\">\n",
              "    <g>\n",
              "        <path d=\"M19 3H5c-1.1 0-2 .9-2 2v14c0 1.1.9 2 2 2h14c1.1 0 2-.9 2-2V5c0-1.1-.9-2-2-2zM9 17H7v-7h2v7zm4 0h-2V7h2v10zm4 0h-2v-4h2v4z\"/>\n",
              "    </g>\n",
              "</svg>\n",
              "      </button>\n",
              "\n",
              "<style>\n",
              "  .colab-df-quickchart {\n",
              "      --bg-color: #E8F0FE;\n",
              "      --fill-color: #1967D2;\n",
              "      --hover-bg-color: #E2EBFA;\n",
              "      --hover-fill-color: #174EA6;\n",
              "      --disabled-fill-color: #AAA;\n",
              "      --disabled-bg-color: #DDD;\n",
              "  }\n",
              "\n",
              "  [theme=dark] .colab-df-quickchart {\n",
              "      --bg-color: #3B4455;\n",
              "      --fill-color: #D2E3FC;\n",
              "      --hover-bg-color: #434B5C;\n",
              "      --hover-fill-color: #FFFFFF;\n",
              "      --disabled-bg-color: #3B4455;\n",
              "      --disabled-fill-color: #666;\n",
              "  }\n",
              "\n",
              "  .colab-df-quickchart {\n",
              "    background-color: var(--bg-color);\n",
              "    border: none;\n",
              "    border-radius: 50%;\n",
              "    cursor: pointer;\n",
              "    display: none;\n",
              "    fill: var(--fill-color);\n",
              "    height: 32px;\n",
              "    padding: 0;\n",
              "    width: 32px;\n",
              "  }\n",
              "\n",
              "  .colab-df-quickchart:hover {\n",
              "    background-color: var(--hover-bg-color);\n",
              "    box-shadow: 0 1px 2px rgba(60, 64, 67, 0.3), 0 1px 3px 1px rgba(60, 64, 67, 0.15);\n",
              "    fill: var(--button-hover-fill-color);\n",
              "  }\n",
              "\n",
              "  .colab-df-quickchart-complete:disabled,\n",
              "  .colab-df-quickchart-complete:disabled:hover {\n",
              "    background-color: var(--disabled-bg-color);\n",
              "    fill: var(--disabled-fill-color);\n",
              "    box-shadow: none;\n",
              "  }\n",
              "\n",
              "  .colab-df-spinner {\n",
              "    border: 2px solid var(--fill-color);\n",
              "    border-color: transparent;\n",
              "    border-bottom-color: var(--fill-color);\n",
              "    animation:\n",
              "      spin 1s steps(1) infinite;\n",
              "  }\n",
              "\n",
              "  @keyframes spin {\n",
              "    0% {\n",
              "      border-color: transparent;\n",
              "      border-bottom-color: var(--fill-color);\n",
              "      border-left-color: var(--fill-color);\n",
              "    }\n",
              "    20% {\n",
              "      border-color: transparent;\n",
              "      border-left-color: var(--fill-color);\n",
              "      border-top-color: var(--fill-color);\n",
              "    }\n",
              "    30% {\n",
              "      border-color: transparent;\n",
              "      border-left-color: var(--fill-color);\n",
              "      border-top-color: var(--fill-color);\n",
              "      border-right-color: var(--fill-color);\n",
              "    }\n",
              "    40% {\n",
              "      border-color: transparent;\n",
              "      border-right-color: var(--fill-color);\n",
              "      border-top-color: var(--fill-color);\n",
              "    }\n",
              "    60% {\n",
              "      border-color: transparent;\n",
              "      border-right-color: var(--fill-color);\n",
              "    }\n",
              "    80% {\n",
              "      border-color: transparent;\n",
              "      border-right-color: var(--fill-color);\n",
              "      border-bottom-color: var(--fill-color);\n",
              "    }\n",
              "    90% {\n",
              "      border-color: transparent;\n",
              "      border-bottom-color: var(--fill-color);\n",
              "    }\n",
              "  }\n",
              "</style>\n",
              "\n",
              "      <script>\n",
              "        async function quickchart(key) {\n",
              "          const quickchartButtonEl =\n",
              "            document.querySelector('#' + key + ' button');\n",
              "          quickchartButtonEl.disabled = true;  // To prevent multiple clicks.\n",
              "          quickchartButtonEl.classList.add('colab-df-spinner');\n",
              "          try {\n",
              "            const charts = await google.colab.kernel.invokeFunction(\n",
              "                'suggestCharts', [key], {});\n",
              "          } catch (error) {\n",
              "            console.error('Error during call to suggestCharts:', error);\n",
              "          }\n",
              "          quickchartButtonEl.classList.remove('colab-df-spinner');\n",
              "          quickchartButtonEl.classList.add('colab-df-quickchart-complete');\n",
              "        }\n",
              "        (() => {\n",
              "          let quickchartButtonEl =\n",
              "            document.querySelector('#df-8da27462-2c58-4bd5-a82e-2fc6f9596145 button');\n",
              "          quickchartButtonEl.style.display =\n",
              "            google.colab.kernel.accessAllowed ? 'block' : 'none';\n",
              "        })();\n",
              "      </script>\n",
              "    </div>\n",
              "\n",
              "    </div>\n",
              "  </div>\n"
            ],
            "application/vnd.google.colaboratory.intrinsic+json": {
              "type": "dataframe",
              "summary": "{\n  \"name\": \"display(df[['temperatura media','investimento marketing','vendas mensais']]\",\n  \"rows\": 8,\n  \"fields\": [\n    {\n      \"column\": \"temperatura media\",\n      \"properties\": {\n        \"dtype\": \"number\",\n        \"std\": 9.003338212804449,\n        \"min\": 2.4756388829528184,\n        \"max\": 29.5,\n        \"num_unique_values\": 8,\n        \"samples\": [\n          25.083333333333332,\n          25.25,\n          12.0\n        ],\n        \"semantic_type\": \"\",\n        \"description\": \"\"\n      }\n    },\n    {\n      \"column\": \"investimento marketing\",\n      \"properties\": {\n        \"dtype\": \"number\",\n        \"std\": 2712.496078424383,\n        \"min\": 12.0,\n        \"max\": 6700.0,\n        \"num_unique_values\": 8,\n        \"samples\": [\n          6033.333333333333,\n          6050.0,\n          12.0\n        ],\n        \"semantic_type\": \"\",\n        \"description\": \"\"\n      }\n    },\n    {\n      \"column\": \"vendas mensais\",\n      \"properties\": {\n        \"dtype\": \"number\",\n        \"std\": 67.1337470218294,\n        \"min\": 12.0,\n        \"max\": 180.0,\n        \"num_unique_values\": 8,\n        \"samples\": [\n          155.83333333333334,\n          157.5,\n          12.0\n        ],\n        \"semantic_type\": \"\",\n        \"description\": \"\"\n      }\n    }\n  ]\n}"
            }
          },
          "metadata": {}
        }
      ]
    },
    {
      "cell_type": "markdown",
      "source": [
        "**Explicação de cada item:**\n",
        "\n",
        "count: Número de registro (neste caso, 12 registros em cada coluna).\n",
        "\n",
        "mean: Média aritmética dos valores.\n",
        "\n",
        "std: Desvio padrão – indica a dispersão dos dados em relação à média.\n",
        "\n",
        "min: Valor mínimo.\n",
        "25%: Primeiro quartil (Q1) – 25% dos dados são menores que esse valor.\n",
        "\n",
        "50%: Mediana (Q2) – metade dos dados são menores que esse valor.\n",
        "\n",
        "75%: Terceiro quartil (Q3) – 75% dos dados são menores que esse valor.\n",
        "\n",
        "max: Valor máximo."
      ],
      "metadata": {
        "id": "GAkTI_kmL0VV"
      },
      "id": "GAkTI_kmL0VV"
    },
    {
      "cell_type": "markdown",
      "source": [
        "### b. Verificação de valores nulos"
      ],
      "metadata": {
        "id": "0a0DEgyjIvTG"
      },
      "id": "0a0DEgyjIvTG"
    },
    {
      "cell_type": "markdown",
      "source": [
        "Verifica e imprime a quantidade de valores ausentes (NaN) em cada coluna do DataFrame"
      ],
      "metadata": {
        "id": "jHcI8YoxMSiL"
      },
      "id": "jHcI8YoxMSiL"
    },
    {
      "cell_type": "code",
      "source": [
        "#Verificando se tem valores ausentes\n",
        "print(df.isnull().sum())"
      ],
      "metadata": {
        "colab": {
          "base_uri": "https://localhost:8080/"
        },
        "id": "uRaulCSnvcCF",
        "outputId": "2438674c-1d9e-4408-8aa4-cf206f0402a8"
      },
      "id": "uRaulCSnvcCF",
      "execution_count": 5,
      "outputs": [
        {
          "output_type": "stream",
          "name": "stdout",
          "text": [
            "temperatura media         0\n",
            "investimento marketing    0\n",
            "vendas mensais            0\n",
            "dtype: int64\n"
          ]
        }
      ]
    },
    {
      "cell_type": "markdown",
      "source": [
        "###c. Verificação de correlacao"
      ],
      "metadata": {
        "id": "Db-wYaOnIzli"
      },
      "id": "Db-wYaOnIzli"
    },
    {
      "cell_type": "markdown",
      "source": [
        "É realizado para identificar como as variáveis numéricas do conjunto de\n",
        "dados se relacionam entre si. Isso permite avaliar se existe\n",
        "uma relação linear entre as variáveis independentes\n",
        "(temperatura média e investimento em marketing) e a variável dependente(vendas mensais).\n",
        "\n",
        "Coeficiente de Correlação\tClassificação\n",
        "r=0\tNula\n",
        "(0 <\tr\n"
      ],
      "metadata": {
        "id": "qYYdA0EiLGmH"
      },
      "id": "qYYdA0EiLGmH"
    },
    {
      "cell_type": "code",
      "source": [
        "#Verificando a correlação\n",
        "corr = df.corr()\n",
        "display(f\"Correlação entre variáveis:\", corr)"
      ],
      "metadata": {
        "colab": {
          "base_uri": "https://localhost:8080/",
          "height": 161
        },
        "id": "L3ILtsOBuutq",
        "outputId": "6837825b-a99b-49a1-ac9f-8d6317abaca8"
      },
      "id": "L3ILtsOBuutq",
      "execution_count": 18,
      "outputs": [
        {
          "output_type": "display_data",
          "data": {
            "text/plain": [
              "'Correlação entre variáveis:'"
            ],
            "application/vnd.google.colaboratory.intrinsic+json": {
              "type": "string"
            }
          },
          "metadata": {}
        },
        {
          "output_type": "display_data",
          "data": {
            "text/plain": [
              "                        temperatura media  investimento marketing  \\\n",
              "temperatura media                1.000000                0.045246   \n",
              "investimento marketing           0.045246                1.000000   \n",
              "vendas mensais                  -0.289718                0.890877   \n",
              "\n",
              "                        vendas mensais  \n",
              "temperatura media            -0.289718  \n",
              "investimento marketing        0.890877  \n",
              "vendas mensais                1.000000  "
            ],
            "text/html": [
              "\n",
              "  <div id=\"df-43f3b73e-c6da-4d98-9fb2-65629268b531\" class=\"colab-df-container\">\n",
              "    <div>\n",
              "<style scoped>\n",
              "    .dataframe tbody tr th:only-of-type {\n",
              "        vertical-align: middle;\n",
              "    }\n",
              "\n",
              "    .dataframe tbody tr th {\n",
              "        vertical-align: top;\n",
              "    }\n",
              "\n",
              "    .dataframe thead th {\n",
              "        text-align: right;\n",
              "    }\n",
              "</style>\n",
              "<table border=\"1\" class=\"dataframe\">\n",
              "  <thead>\n",
              "    <tr style=\"text-align: right;\">\n",
              "      <th></th>\n",
              "      <th>temperatura media</th>\n",
              "      <th>investimento marketing</th>\n",
              "      <th>vendas mensais</th>\n",
              "    </tr>\n",
              "  </thead>\n",
              "  <tbody>\n",
              "    <tr>\n",
              "      <th>temperatura media</th>\n",
              "      <td>1.000000</td>\n",
              "      <td>0.045246</td>\n",
              "      <td>-0.289718</td>\n",
              "    </tr>\n",
              "    <tr>\n",
              "      <th>investimento marketing</th>\n",
              "      <td>0.045246</td>\n",
              "      <td>1.000000</td>\n",
              "      <td>0.890877</td>\n",
              "    </tr>\n",
              "    <tr>\n",
              "      <th>vendas mensais</th>\n",
              "      <td>-0.289718</td>\n",
              "      <td>0.890877</td>\n",
              "      <td>1.000000</td>\n",
              "    </tr>\n",
              "  </tbody>\n",
              "</table>\n",
              "</div>\n",
              "    <div class=\"colab-df-buttons\">\n",
              "\n",
              "  <div class=\"colab-df-container\">\n",
              "    <button class=\"colab-df-convert\" onclick=\"convertToInteractive('df-43f3b73e-c6da-4d98-9fb2-65629268b531')\"\n",
              "            title=\"Convert this dataframe to an interactive table.\"\n",
              "            style=\"display:none;\">\n",
              "\n",
              "  <svg xmlns=\"http://www.w3.org/2000/svg\" height=\"24px\" viewBox=\"0 -960 960 960\">\n",
              "    <path d=\"M120-120v-720h720v720H120Zm60-500h600v-160H180v160Zm220 220h160v-160H400v160Zm0 220h160v-160H400v160ZM180-400h160v-160H180v160Zm440 0h160v-160H620v160ZM180-180h160v-160H180v160Zm440 0h160v-160H620v160Z\"/>\n",
              "  </svg>\n",
              "    </button>\n",
              "\n",
              "  <style>\n",
              "    .colab-df-container {\n",
              "      display:flex;\n",
              "      gap: 12px;\n",
              "    }\n",
              "\n",
              "    .colab-df-convert {\n",
              "      background-color: #E8F0FE;\n",
              "      border: none;\n",
              "      border-radius: 50%;\n",
              "      cursor: pointer;\n",
              "      display: none;\n",
              "      fill: #1967D2;\n",
              "      height: 32px;\n",
              "      padding: 0 0 0 0;\n",
              "      width: 32px;\n",
              "    }\n",
              "\n",
              "    .colab-df-convert:hover {\n",
              "      background-color: #E2EBFA;\n",
              "      box-shadow: 0px 1px 2px rgba(60, 64, 67, 0.3), 0px 1px 3px 1px rgba(60, 64, 67, 0.15);\n",
              "      fill: #174EA6;\n",
              "    }\n",
              "\n",
              "    .colab-df-buttons div {\n",
              "      margin-bottom: 4px;\n",
              "    }\n",
              "\n",
              "    [theme=dark] .colab-df-convert {\n",
              "      background-color: #3B4455;\n",
              "      fill: #D2E3FC;\n",
              "    }\n",
              "\n",
              "    [theme=dark] .colab-df-convert:hover {\n",
              "      background-color: #434B5C;\n",
              "      box-shadow: 0px 1px 3px 1px rgba(0, 0, 0, 0.15);\n",
              "      filter: drop-shadow(0px 1px 2px rgba(0, 0, 0, 0.3));\n",
              "      fill: #FFFFFF;\n",
              "    }\n",
              "  </style>\n",
              "\n",
              "    <script>\n",
              "      const buttonEl =\n",
              "        document.querySelector('#df-43f3b73e-c6da-4d98-9fb2-65629268b531 button.colab-df-convert');\n",
              "      buttonEl.style.display =\n",
              "        google.colab.kernel.accessAllowed ? 'block' : 'none';\n",
              "\n",
              "      async function convertToInteractive(key) {\n",
              "        const element = document.querySelector('#df-43f3b73e-c6da-4d98-9fb2-65629268b531');\n",
              "        const dataTable =\n",
              "          await google.colab.kernel.invokeFunction('convertToInteractive',\n",
              "                                                    [key], {});\n",
              "        if (!dataTable) return;\n",
              "\n",
              "        const docLinkHtml = 'Like what you see? Visit the ' +\n",
              "          '<a target=\"_blank\" href=https://colab.research.google.com/notebooks/data_table.ipynb>data table notebook</a>'\n",
              "          + ' to learn more about interactive tables.';\n",
              "        element.innerHTML = '';\n",
              "        dataTable['output_type'] = 'display_data';\n",
              "        await google.colab.output.renderOutput(dataTable, element);\n",
              "        const docLink = document.createElement('div');\n",
              "        docLink.innerHTML = docLinkHtml;\n",
              "        element.appendChild(docLink);\n",
              "      }\n",
              "    </script>\n",
              "  </div>\n",
              "\n",
              "\n",
              "    <div id=\"df-443be6a9-27aa-4d2e-a565-7df64fa342dc\">\n",
              "      <button class=\"colab-df-quickchart\" onclick=\"quickchart('df-443be6a9-27aa-4d2e-a565-7df64fa342dc')\"\n",
              "                title=\"Suggest charts\"\n",
              "                style=\"display:none;\">\n",
              "\n",
              "<svg xmlns=\"http://www.w3.org/2000/svg\" height=\"24px\"viewBox=\"0 0 24 24\"\n",
              "     width=\"24px\">\n",
              "    <g>\n",
              "        <path d=\"M19 3H5c-1.1 0-2 .9-2 2v14c0 1.1.9 2 2 2h14c1.1 0 2-.9 2-2V5c0-1.1-.9-2-2-2zM9 17H7v-7h2v7zm4 0h-2V7h2v10zm4 0h-2v-4h2v4z\"/>\n",
              "    </g>\n",
              "</svg>\n",
              "      </button>\n",
              "\n",
              "<style>\n",
              "  .colab-df-quickchart {\n",
              "      --bg-color: #E8F0FE;\n",
              "      --fill-color: #1967D2;\n",
              "      --hover-bg-color: #E2EBFA;\n",
              "      --hover-fill-color: #174EA6;\n",
              "      --disabled-fill-color: #AAA;\n",
              "      --disabled-bg-color: #DDD;\n",
              "  }\n",
              "\n",
              "  [theme=dark] .colab-df-quickchart {\n",
              "      --bg-color: #3B4455;\n",
              "      --fill-color: #D2E3FC;\n",
              "      --hover-bg-color: #434B5C;\n",
              "      --hover-fill-color: #FFFFFF;\n",
              "      --disabled-bg-color: #3B4455;\n",
              "      --disabled-fill-color: #666;\n",
              "  }\n",
              "\n",
              "  .colab-df-quickchart {\n",
              "    background-color: var(--bg-color);\n",
              "    border: none;\n",
              "    border-radius: 50%;\n",
              "    cursor: pointer;\n",
              "    display: none;\n",
              "    fill: var(--fill-color);\n",
              "    height: 32px;\n",
              "    padding: 0;\n",
              "    width: 32px;\n",
              "  }\n",
              "\n",
              "  .colab-df-quickchart:hover {\n",
              "    background-color: var(--hover-bg-color);\n",
              "    box-shadow: 0 1px 2px rgba(60, 64, 67, 0.3), 0 1px 3px 1px rgba(60, 64, 67, 0.15);\n",
              "    fill: var(--button-hover-fill-color);\n",
              "  }\n",
              "\n",
              "  .colab-df-quickchart-complete:disabled,\n",
              "  .colab-df-quickchart-complete:disabled:hover {\n",
              "    background-color: var(--disabled-bg-color);\n",
              "    fill: var(--disabled-fill-color);\n",
              "    box-shadow: none;\n",
              "  }\n",
              "\n",
              "  .colab-df-spinner {\n",
              "    border: 2px solid var(--fill-color);\n",
              "    border-color: transparent;\n",
              "    border-bottom-color: var(--fill-color);\n",
              "    animation:\n",
              "      spin 1s steps(1) infinite;\n",
              "  }\n",
              "\n",
              "  @keyframes spin {\n",
              "    0% {\n",
              "      border-color: transparent;\n",
              "      border-bottom-color: var(--fill-color);\n",
              "      border-left-color: var(--fill-color);\n",
              "    }\n",
              "    20% {\n",
              "      border-color: transparent;\n",
              "      border-left-color: var(--fill-color);\n",
              "      border-top-color: var(--fill-color);\n",
              "    }\n",
              "    30% {\n",
              "      border-color: transparent;\n",
              "      border-left-color: var(--fill-color);\n",
              "      border-top-color: var(--fill-color);\n",
              "      border-right-color: var(--fill-color);\n",
              "    }\n",
              "    40% {\n",
              "      border-color: transparent;\n",
              "      border-right-color: var(--fill-color);\n",
              "      border-top-color: var(--fill-color);\n",
              "    }\n",
              "    60% {\n",
              "      border-color: transparent;\n",
              "      border-right-color: var(--fill-color);\n",
              "    }\n",
              "    80% {\n",
              "      border-color: transparent;\n",
              "      border-right-color: var(--fill-color);\n",
              "      border-bottom-color: var(--fill-color);\n",
              "    }\n",
              "    90% {\n",
              "      border-color: transparent;\n",
              "      border-bottom-color: var(--fill-color);\n",
              "    }\n",
              "  }\n",
              "</style>\n",
              "\n",
              "      <script>\n",
              "        async function quickchart(key) {\n",
              "          const quickchartButtonEl =\n",
              "            document.querySelector('#' + key + ' button');\n",
              "          quickchartButtonEl.disabled = true;  // To prevent multiple clicks.\n",
              "          quickchartButtonEl.classList.add('colab-df-spinner');\n",
              "          try {\n",
              "            const charts = await google.colab.kernel.invokeFunction(\n",
              "                'suggestCharts', [key], {});\n",
              "          } catch (error) {\n",
              "            console.error('Error during call to suggestCharts:', error);\n",
              "          }\n",
              "          quickchartButtonEl.classList.remove('colab-df-spinner');\n",
              "          quickchartButtonEl.classList.add('colab-df-quickchart-complete');\n",
              "        }\n",
              "        (() => {\n",
              "          let quickchartButtonEl =\n",
              "            document.querySelector('#df-443be6a9-27aa-4d2e-a565-7df64fa342dc button');\n",
              "          quickchartButtonEl.style.display =\n",
              "            google.colab.kernel.accessAllowed ? 'block' : 'none';\n",
              "        })();\n",
              "      </script>\n",
              "    </div>\n",
              "\n",
              "  <div id=\"id_77322af6-c875-4885-9e8a-3812daf71ca2\">\n",
              "    <style>\n",
              "      .colab-df-generate {\n",
              "        background-color: #E8F0FE;\n",
              "        border: none;\n",
              "        border-radius: 50%;\n",
              "        cursor: pointer;\n",
              "        display: none;\n",
              "        fill: #1967D2;\n",
              "        height: 32px;\n",
              "        padding: 0 0 0 0;\n",
              "        width: 32px;\n",
              "      }\n",
              "\n",
              "      .colab-df-generate:hover {\n",
              "        background-color: #E2EBFA;\n",
              "        box-shadow: 0px 1px 2px rgba(60, 64, 67, 0.3), 0px 1px 3px 1px rgba(60, 64, 67, 0.15);\n",
              "        fill: #174EA6;\n",
              "      }\n",
              "\n",
              "      [theme=dark] .colab-df-generate {\n",
              "        background-color: #3B4455;\n",
              "        fill: #D2E3FC;\n",
              "      }\n",
              "\n",
              "      [theme=dark] .colab-df-generate:hover {\n",
              "        background-color: #434B5C;\n",
              "        box-shadow: 0px 1px 3px 1px rgba(0, 0, 0, 0.15);\n",
              "        filter: drop-shadow(0px 1px 2px rgba(0, 0, 0, 0.3));\n",
              "        fill: #FFFFFF;\n",
              "      }\n",
              "    </style>\n",
              "    <button class=\"colab-df-generate\" onclick=\"generateWithVariable('corr')\"\n",
              "            title=\"Generate code using this dataframe.\"\n",
              "            style=\"display:none;\">\n",
              "\n",
              "  <svg xmlns=\"http://www.w3.org/2000/svg\" height=\"24px\"viewBox=\"0 0 24 24\"\n",
              "       width=\"24px\">\n",
              "    <path d=\"M7,19H8.4L18.45,9,17,7.55,7,17.6ZM5,21V16.75L18.45,3.32a2,2,0,0,1,2.83,0l1.4,1.43a1.91,1.91,0,0,1,.58,1.4,1.91,1.91,0,0,1-.58,1.4L9.25,21ZM18.45,9,17,7.55Zm-12,3A5.31,5.31,0,0,0,4.9,8.1,5.31,5.31,0,0,0,1,6.5,5.31,5.31,0,0,0,4.9,4.9,5.31,5.31,0,0,0,6.5,1,5.31,5.31,0,0,0,8.1,4.9,5.31,5.31,0,0,0,12,6.5,5.46,5.46,0,0,0,6.5,12Z\"/>\n",
              "  </svg>\n",
              "    </button>\n",
              "    <script>\n",
              "      (() => {\n",
              "      const buttonEl =\n",
              "        document.querySelector('#id_77322af6-c875-4885-9e8a-3812daf71ca2 button.colab-df-generate');\n",
              "      buttonEl.style.display =\n",
              "        google.colab.kernel.accessAllowed ? 'block' : 'none';\n",
              "\n",
              "      buttonEl.onclick = () => {\n",
              "        google.colab.notebook.generateWithVariable('corr');\n",
              "      }\n",
              "      })();\n",
              "    </script>\n",
              "  </div>\n",
              "\n",
              "    </div>\n",
              "  </div>\n"
            ],
            "application/vnd.google.colaboratory.intrinsic+json": {
              "type": "dataframe",
              "variable_name": "corr",
              "summary": "{\n  \"name\": \"corr\",\n  \"rows\": 3,\n  \"fields\": [\n    {\n      \"column\": \"temperatura media\",\n      \"properties\": {\n        \"dtype\": \"number\",\n        \"std\": 0.6692194563691232,\n        \"min\": -0.28971771198461677,\n        \"max\": 1.0,\n        \"num_unique_values\": 3,\n        \"samples\": [\n          1.0,\n          0.045245661798241237,\n          -0.28971771198461677\n        ],\n        \"semantic_type\": \"\",\n        \"description\": \"\"\n      }\n    },\n    {\n      \"column\": \"investimento marketing\",\n      \"properties\": {\n        \"dtype\": \"number\",\n        \"std\": 0.5225827267271254,\n        \"min\": 0.045245661798241237,\n        \"max\": 1.0,\n        \"num_unique_values\": 3,\n        \"samples\": [\n          0.045245661798241237,\n          1.0,\n          0.8908771371663567\n        ],\n        \"semantic_type\": \"\",\n        \"description\": \"\"\n      }\n    },\n    {\n      \"column\": \"vendas mensais\",\n      \"properties\": {\n        \"dtype\": \"number\",\n        \"std\": 0.7152020429735986,\n        \"min\": -0.28971771198461677,\n        \"max\": 1.0,\n        \"num_unique_values\": 3,\n        \"samples\": [\n          -0.28971771198461677,\n          0.8908771371663567,\n          1.0\n        ],\n        \"semantic_type\": \"\",\n        \"description\": \"\"\n      }\n    }\n  ]\n}"
            }
          },
          "metadata": {}
        }
      ]
    },
    {
      "cell_type": "markdown",
      "source": [
        "- Temperatura Média x Vendas Mensais:\n",
        "Correlação de -0,29, o que indica uma correlação negativa\n",
        "fraca. Isso sugere que, conforme a temperatura aumenta,\n",
        "há uma leve tendência de queda nas vendas mensais,\n",
        "embora essa relação não seja forte o suficiente para afirmar\n",
        "uma dependência direta entre as variáveis.\n",
        "\n",
        "- Investimento em Marketing x Vendas Mensais:\n",
        "Correlação de 0,89, o que representa uma correlação positiva forte.\n",
        "Esse valor indica que o aumento nos investimentos em marketing está\n",
        "fortemente associado ao aumento nas vendas mensais. Isso reforça a\n",
        "importância do marketing como principal fator explicativo da demanda na loja.\n",
        "\n",
        "- Temperatura Média x Investimento em Marketing:\n",
        "Correlação de 0,045, indicando praticamente nenhuma correlação\n",
        "entre essas duas variáveis. Isso significa que a temperatura não\n",
        "influencia diretamente o investimento realizado em marketing, ou seja,\n",
        "são fatores independentes entre si.\n",
        "\n",
        "\n",
        "**Resultado:**\n",
        "De acordo com a correlação, o investimento em marketing é a variável mais relevante para a previsão de vendas\n"
      ],
      "metadata": {
        "id": "ES4RAwoHLZQO"
      },
      "id": "ES4RAwoHLZQO"
    },
    {
      "cell_type": "markdown",
      "source": [
        "###d. Verificação de outliers"
      ],
      "metadata": {
        "id": "92jMVOu9P993"
      },
      "id": "92jMVOu9P993"
    },
    {
      "cell_type": "code",
      "source": [
        "\n",
        "def detectar_outliers_iqr(coluna):\n",
        "    Q1 = df[coluna].quantile(0.25)\n",
        "    Q3 = df[coluna].quantile(0.75)\n",
        "    IQR = Q3 - Q1\n",
        "    limite_inferior = Q1 - 1.5 * IQR\n",
        "    limite_superior = Q3 + 1.5 * IQR\n",
        "    outliers = df[(df[coluna] < limite_inferior) | (df[coluna] > limite_superior)]\n",
        "    return outliers\n",
        "\n",
        "# Verificando outliers em cada variável\n",
        "for coluna in df.columns:\n",
        "    outliers = detectar_outliers_iqr(coluna)\n",
        "    print(f\"\\n Outliers na coluna '{coluna}':\")\n",
        "    if not outliers.empty:\n",
        "        print(outliers)\n",
        "    else:\n",
        "        print(\"Nenhum outlier encontrado.\")\n"
      ],
      "metadata": {
        "id": "CQjs-d_3P_1_"
      },
      "id": "CQjs-d_3P_1_",
      "execution_count": null,
      "outputs": []
    },
    {
      "cell_type": "markdown",
      "source": [
        "##3.3. Vizualização gráfica"
      ],
      "metadata": {
        "id": "skYZ8caHI4rS"
      },
      "id": "skYZ8caHI4rS"
    },
    {
      "cell_type": "markdown",
      "source": [
        "###a. mapa de correlação (heatmap)\n"
      ],
      "metadata": {
        "id": "f_M6U797JNzl"
      },
      "id": "f_M6U797JNzl"
    },
    {
      "cell_type": "markdown",
      "source": [
        "\n",
        "O heatmap (mapa de calor) abaixo representa graficamente a matriz de\n",
        "correlação entre as variáveis. Quanto mais próximo do vermelho, maior a\n",
        "correlação positiva; quanto mais próximo do azul escuro, maior a correlação negativa.\n",
        "As células com valores próximos de zero tendem a tons neutros."
      ],
      "metadata": {
        "id": "Jly3KDvFQxv_"
      },
      "id": "Jly3KDvFQxv_"
    },
    {
      "cell_type": "code",
      "source": [
        "\n",
        "# Heatmap da correlação\n",
        "sns.heatmap(corr, annot=True, cmap=\"coolwarm\")\n",
        "plt.title(\"Mapa de Correlação\")\n",
        "plt.show()\n"
      ],
      "metadata": {
        "colab": {
          "base_uri": "https://localhost:8080/",
          "height": 604
        },
        "id": "eXMvIldju2is",
        "outputId": "af14fcf4-5c3d-4d8b-e41a-7d9beac285fd"
      },
      "id": "eXMvIldju2is",
      "execution_count": 25,
      "outputs": [
        {
          "output_type": "display_data",
          "data": {
            "text/plain": [
              "<Figure size 640x480 with 2 Axes>"
            ],
            "image/png": "[encoded data removed]"
          },
          "metadata": {}
        }
      ]
    },
    {
      "cell_type": "markdown",
      "source": [
        "###b. mapa de outliers"
      ],
      "metadata": {
        "id": "RnYL5MkQQV5m"
      },
      "id": "RnYL5MkQQV5m"
    },
    {
      "cell_type": "markdown",
      "source": [
        "Utilizamos o boxplot para identificar os pontos fora do padrão nos dados porém de forma visual."
      ],
      "metadata": {
        "id": "KGHX1kqtQ6Mn"
      },
      "id": "KGHX1kqtQ6Mn"
    },
    {
      "cell_type": "code",
      "source": [
        "#Visualizando outliers com boxplots\n",
        "for coluna in df.columns:\n",
        "    plt.figure(figsize=(6, 1.5))\n",
        "    sns.boxplot(x=df[coluna], color='skyblue')\n",
        "    plt.title(f\"Boxplot de {coluna}\")\n",
        "    plt.show()\n"
      ],
      "metadata": {
        "colab": {
          "base_uri": "https://localhost:8080/",
          "height": 620
        },
        "id": "9TP5kz4my5FH",
        "outputId": "d44ab741-275a-403d-f645-e1a153a7a231"
      },
      "id": "9TP5kz4my5FH",
      "execution_count": 24,
      "outputs": [
        {
          "output_type": "display_data",
          "data": {
            "text/plain": [
              "<Figure size 600x150 with 1 Axes>"
            ],
            "image/png": "[encoded data removed]"
          },
          "metadata": {}
        },
        {
          "output_type": "display_data",
          "data": {
            "text/plain": [
              "<Figure size 600x150 with 1 Axes>"
            ],
            "image/png": "[encoded data removed]"
          },
          "metadata": {}
        },
        {
          "output_type": "display_data",
          "data": {
            "text/plain": [
              "<Figure size 600x150 with 1 Axes>"
            ],
            "image/png": "[encoded data removed]"
          },
          "metadata": {}
        }
      ]
    },
    {
      "cell_type": "markdown",
      "source": [
        "**Conclusão do boxplot e outliers**\n",
        "\n",
        "Na variável investimento em marketing e vendas mensais, observou-se um outlier à esquerda,\n",
        "representando um investimento de R$5000 e uma venda abaixo do esperado.\n",
        "Este ponto corresponde ao primeiro mês da série, esse valor não representa um erro,\n",
        "desta forma não considerei um erro, mas sim uma ocorrência realista onde houve menor investimento,\n",
        "o que resultou consequentemente em menor demanda."
      ],
      "metadata": {
        "id": "TO3r64V3QcwS"
      },
      "id": "TO3r64V3QcwS"
    },
    {
      "cell_type": "markdown",
      "source": [
        "###c. gráficos de dispersão"
      ],
      "metadata": {
        "id": "vssiTyLmWBcN"
      },
      "id": "vssiTyLmWBcN"
    },
    {
      "cell_type": "markdown",
      "source": [
        "Os gráficos de dispersão mostram se as variáveis estão relacionadas (positivamente, negativamente ou não relacionadas). E com eles conseguimos detectar padrões como agrupamentos ou tendências e vizualizar pontos que fogem do padrão.\n",
        "Nós gráficos de dispersão a seguir, temos a linha de tendencia, e a área sombreada.  A linha de tendencia indica a direção geral da relação entre as variáveis, sendo descentende ou ascendente.\n",
        "Já a area sombreada,  ao redor da linha indica a margem de erro ou intervalo de confiança dessa estimativa.Quanto mais estreita for essa área, maior a confiança na estimativa da linha; quanto mais larga, maior a incerteza.\n"
      ],
      "metadata": {
        "id": "vSuM7zhFaEWZ"
      },
      "id": "vSuM7zhFaEWZ"
    },
    {
      "cell_type": "code",
      "source": [
        "#Temperatura vs Vendas\n",
        "plt.figure(figsize=(8, 5))\n",
        "sns.regplot(x=\"temperatura media\", y=\"vendas mensais\", data=df, scatter_kws={\"color\": \"blue\"}, line_kws={\"color\": \"red\"})\n",
        "plt.title(\"Relação entre Temperatura e Vendas\")\n",
        "plt.xlabel(\"Temperatura Média (°C)\")\n",
        "plt.ylabel(\"Vendas Mensais\")\n",
        "plt.grid(True)\n",
        "plt.show()"
      ],
      "metadata": {
        "colab": {
          "base_uri": "https://localhost:8080/",
          "height": 488
        },
        "id": "pdtnuQoqWHXN",
        "outputId": "79aee195-c4dc-4a77-8ed0-c7826310fc2f"
      },
      "id": "pdtnuQoqWHXN",
      "execution_count": 60,
      "outputs": [
        {
          "output_type": "display_data",
          "data": {
            "text/plain": [
              "<Figure size 800x500 with 1 Axes>"
            ],
            "image/png": "[encoded data removed]"
          },
          "metadata": {}
        }
      ]
    },
    {
      "cell_type": "markdown",
      "source": [
        "**Resultado do gráfico: **\n",
        "\n",
        "A análise gráfica entre temperatura média e vendas mensais revelou vizualmente a tendência de correlação negativa. Como representado pela linha de regressão, à medida que a temperatura média aumenta, há uma leve tendência de queda nas vendas de prancha."
      ],
      "metadata": {
        "id": "9DsYFuQMWJtw"
      },
      "id": "9DsYFuQMWJtw"
    },
    {
      "cell_type": "code",
      "source": [
        "plt.figure(figsize=(8, 5))\n",
        "sns.regplot(x=\"investimento marketing\", y=\"vendas mensais\", data=df, scatter_kws={\"color\": \"green\"}, line_kws={\"color\": \"orange\"})\n",
        "plt.title(\"Relação entre Investimento em Marketing e Vendas\")\n",
        "plt.xlabel(\"Investimento em Marketing (R$)\")\n",
        "plt.ylabel(\"Vendas Mensais\")\n",
        "plt.grid(True)\n",
        "plt.show()"
      ],
      "metadata": {
        "colab": {
          "base_uri": "https://localhost:8080/",
          "height": 487
        },
        "id": "nMCa_uRgXxii",
        "outputId": "900a6164-a2cb-412b-9194-daf04223fe95"
      },
      "id": "nMCa_uRgXxii",
      "execution_count": 61,
      "outputs": [
        {
          "output_type": "display_data",
          "data": {
            "text/plain": [
              "<Figure size 800x500 with 1 Axes>"
            ],
            "image/png": "[encoded data removed]"
          },
          "metadata": {}
        }
      ]
    },
    {
      "cell_type": "markdown",
      "source": [
        "**Resultado do gráfico: **\n",
        "\n",
        "O gráfico de dispersão entre investimento em marketing e vendas mensais demonstra uma correlação positiva clara e consistente. A linha de regressão indica que, conforme os valores investidos em campanhas aumentam, o volume de vendas também cresce."
      ],
      "metadata": {
        "id": "upieoTPbX3Ux"
      },
      "id": "upieoTPbX3Ux"
    },
    {
      "cell_type": "markdown",
      "id": "081862b2",
      "metadata": {
        "id": "081862b2"
      },
      "source": [
        "\n",
        "# 4. Pré-processamento dos Dados\n",
        "\n",
        "Neste caso, os dados já estão limpos, sem valores ausentes. Portanto, seguimos diretamente para a modelagem. Vamos usar a regressão linear múltipla, tendo em vista que há duas variaveis."
      ]
    },
    {
      "cell_type": "markdown",
      "source": [
        "## 4.1.  Modelagem com Regressão Linear Múltipla"
      ],
      "metadata": {
        "id": "Y9mjTSe-SO1W"
      },
      "id": "Y9mjTSe-SO1W"
    },
    {
      "cell_type": "code",
      "source": [
        "#x são as variaveis independentes e y a variavel dependente\n",
        "X = df[[\"temperatura media\",'investimento marketing']]\n",
        "y = df[\"vendas mensais\"]\n",
        "\n",
        "#Escolha do modelo de linear\n",
        "modelo = LinearRegression()\n",
        "modelo.fit(X, y)\n",
        "\n",
        "\n",
        "print(\"\"\"Interpretação dos Coeficientes do Modelo de Regressão Linear Múltipla\"\"\")\n",
        "print('-------------------------------------------------')\n",
        "print(\"Intercepto:\", modelo.intercept_)\n",
        "\n",
        "print(\"\"\"\n",
        "Representa o valor estimado das vendas mensais quando a temperatura média\n",
        "e o investimento em marketing são zero. Embora esses valores possam não ter\n",
        "significado prático pois temperatura zero e investimento zero são improváveis,\n",
        "o intercepto é necessário para\n",
        "ajustar a reta de regressão no espaço dos dados.\"\"\")\n",
        "print('-------------------------------------------------')\n",
        "print(\"Coeficiente(β1):\", modelo.coef_[0])\n",
        "print(\"\"\"\n",
        "Indica que, mantendo o investimento em marketing constante, um\n",
        "aumento de 1 grau na temperatura média está associado a uma redução\n",
        "média de aproximadamente 2,26 unidades nas vendas mensais. Esse coeficiente\n",
        "negativo sugere uma relação inversa entre temperatura e vendas, possivelmente indicando que\n",
        "vendas caem com o aumento da temperatura. \"\"\")\n",
        "print('-------------------------------------------------')\n",
        "\n",
        "print(\"Coeficiente(β2):\", modelo.coef_[1])\n",
        "\n",
        "print(\"\"\"\n",
        "Indica que, mantendo a temperatura média constante, um aumento de 1 unidade monetária no\n",
        "investimento em marketing está associado a um aumento médio de 0,033\n",
        "unidades nas vendas mensais. Ou seja, para cada incremento de 1000 unidades\n",
        "monetárias no investimento, espera-se um aumento de cerca de 33 unidades vendidas,\n",
        "evidenciando a influência positiva do marketing nas vendas das pranchas.\n",
        "\"\"\")\n",
        "print('-------------------------------------------------')\n"
      ],
      "metadata": {
        "colab": {
          "base_uri": "https://localhost:8080/"
        },
        "id": "plZdxNEu7VE6",
        "outputId": "9013246c-ac37-4485-f443-5c4996fb6f9f"
      },
      "id": "plZdxNEu7VE6",
      "execution_count": 44,
      "outputs": [
        {
          "output_type": "stream",
          "name": "stdout",
          "text": [
            "Interpretação dos Coeficientes do Modelo de Regressão Linear Múltipla\n",
            "-------------------------------------------------\n",
            "Intercepto: 11.632994750907613\n",
            "\n",
            "Representa o valor estimado das vendas mensais quando a temperatura média \n",
            "e o investimento em marketing são zero. Embora esses valores possam não ter \n",
            "significado prático pois temperatura zero e investimento zero são improváveis, \n",
            "o intercepto é necessário para \n",
            "ajustar a reta de regressão no espaço dos dados.\n",
            "-------------------------------------------------\n",
            "Coeficiente(β1): -2.257535588420055\n",
            "\n",
            "Indica que, mantendo o investimento em marketing constante, um \n",
            "aumento de 1 grau na temperatura média está associado a uma redução \n",
            "média de aproximadamente 2,26 unidades nas vendas mensais. Esse coeficiente \n",
            "negativo sugere uma relação inversa entre temperatura e vendas, possivelmente indicando que \n",
            "vendas caem com o aumento da temperatura. \n",
            "-------------------------------------------------\n",
            "Coeficiente(β2): 0.033286219269385985\n",
            "\n",
            "Indica que, mantendo a temperatura média constante, um aumento de 1 unidade monetária no \n",
            "investimento em marketing está associado a um aumento médio de 0,033 \n",
            "unidades nas vendas mensais. Ou seja, para cada incremento de 1000 unidades \n",
            "monetárias no investimento, espera-se um aumento de cerca de 33 unidades vendidas, \n",
            "evidenciando a influência positiva do marketing nas vendas das pranchas.\n",
            "\n",
            "-------------------------------------------------\n"
          ]
        }
      ]
    },
    {
      "cell_type": "markdown",
      "source": [
        "####4.1.1.Avaliação do modelo"
      ],
      "metadata": {
        "id": "G0xUxCIeTWOv"
      },
      "id": "G0xUxCIeTWOv"
    },
    {
      "cell_type": "markdown",
      "source": [
        "\n",
        "**Descrição das Métricas**\n",
        "\n",
        "- Erro Médio Absoluto (MAE):\n",
        "O MAE representa a média das diferenças absolutas entre os\n",
        "valores observados e as previsões do modelo. Essa métrica\n",
        "fornece uma medida clara do erro médio em unidades reais,\n",
        "sendo útil para interpretar a precisão geral do modelo.\n",
        "\n",
        "- Erro Quadrático Médio (MSE):\n",
        "O MSE calcula a média dos quadrados dos erros entre os valores reais e previstos,\n",
        "penalizando erros maiores de forma mais significativa.\n",
        "Essa métrica é importante para detectar discrepâncias amplas\n",
        "e avaliar a robustez do modelo.\n",
        "\n",
        "- Coeficiente de Determinação (R²):\n",
        "O R² indica a proporção da variabilidade dos dados que é\n",
        "explicada pelo modelo. Valores próximos a 1 demonstram que\n",
        "o modelo possui bom ajuste, sendo capaz de capturar grande\n",
        "parte das variações presentes nos dados observados.\"\"\""
      ],
      "metadata": {
        "id": "VN_pJed2Te0y"
      },
      "id": "VN_pJed2Te0y"
    },
    {
      "cell_type": "code",
      "execution_count": 56,
      "id": "ac0de8e4",
      "metadata": {
        "colab": {
          "base_uri": "https://localhost:8080/"
        },
        "id": "ac0de8e4",
        "outputId": "d0bc7c3f-0233-40b4-b7e2-9dd0222a78e9"
      },
      "outputs": [
        {
          "output_type": "stream",
          "name": "stdout",
          "text": [
            "Erro Médio Absoluto (MAE): 3.43\n",
            "Erro Quadrático Médio (MSE): 25.45\n",
            "Coeficiente de Determinação (R²): 0.903\n"
          ]
        }
      ],
      "source": [
        "\n",
        "y_pred = modelo.predict(X)\n",
        "mae = mean_absolute_error(y, y_pred)\n",
        "mse = mean_squared_error(y, y_pred)\n",
        "r2 = r2_score(y, y_pred)\n",
        "\n",
        "print(f\"Erro Médio Absoluto (MAE): {mae:.2f}\")\n",
        "print(f\"Erro Quadrático Médio (MSE): {mse:.2f}\")\n",
        "print(f\"Coeficiente de Determinação (R²): {r2:.3f}\")\n",
        "\n",
        "\n"
      ]
    },
    {
      "cell_type": "markdown",
      "source": [
        "**Resultado**\n",
        "\n",
        "- Erro Médio Absoluto (MAE): 3.43\n",
        "\n",
        "Em média, o modelo erra 3,43 unidades de venda para mais ou para menos.\n",
        "É um erro relativamente baixo, indicando boa precisão nas previsões.\n",
        "\n",
        "- Erro Quadrático Médio (MSE): 25.45\n",
        "\n",
        "Penaliza mais os erros grandes. Um valor baixo como esse reforça que grandes desvios são raros.\n",
        "\n",
        "- Coeficiente de Determinação (R²): 0.903\n",
        "\n",
        "O modelo consegue explicar 90,3% da variação nas vendas mensais com base nas variáveis \"temperatura média\" e \"investimento em marketing\"."
      ],
      "metadata": {
        "id": "O-owdZghUYYx"
      },
      "id": "O-owdZghUYYx"
    },
    {
      "cell_type": "code",
      "execution_count": 57,
      "id": "eb88f72e",
      "metadata": {
        "colab": {
          "base_uri": "https://localhost:8080/",
          "height": 564
        },
        "id": "eb88f72e",
        "outputId": "8be20073-711f-465d-99df-203b3abf880f"
      },
      "outputs": [
        {
          "output_type": "display_data",
          "data": {
            "text/plain": [
              "<Figure size 800x600 with 1 Axes>"
            ],
            "image/png": "[encoded data removed]"
          },
          "metadata": {}
        }
      ],
      "source": [
        "\n",
        "plt.figure(figsize=(8, 6))\n",
        "plt.plot(range(1, len(y)+1), y.values, label=\"Vendas Reais\", marker='o')\n",
        "plt.plot(range(1, len(y_pred)+1), y_pred, label=\"Vendas Previstas\", marker='x')\n",
        "plt.title(\"Comparação entre Vendas Reais e Previstas\")\n",
        "plt.xlabel(\"Mês\")\n",
        "plt.ylabel(\"Unidades Vendidas\")\n",
        "plt.xticks(range(1, len(y)+1))  # Exibe os meses de 1 a 12 no eixo X\n",
        "plt.legend()\n",
        "plt.grid(True)\n",
        "plt.show()\n",
        "\n",
        "\n"
      ]
    },
    {
      "cell_type": "markdown",
      "source": [
        "Para complementar a análise modelo, criei uma visualização comparativa entre os valores reais e as previsões geradas pela regressão linear múltipla ao longo dos 12 meses.\n",
        "\n",
        "O gráfico exibido apresenta as vendas mensais observadas e as vendas previstas pelo modelo, permitindo uma avaliação visual da qualidade do ajuste. É possível notar que as linhas se aproximam bastante, indicando que o modelo captura bem a tendência dos dados ao longo do tempo."
      ],
      "metadata": {
        "id": "r6TFysyc1xPY"
      },
      "id": "r6TFysyc1xPY"
    },
    {
      "cell_type": "markdown",
      "id": "d6fe8b17",
      "metadata": {
        "id": "d6fe8b17"
      },
      "source": [
        "\n",
        "## 8. Conclusões e Melhorias\n",
        "\n",
        "O modelo apresentou um bom desempenho para o conjunto de dados fornecido, com um coeficiente de determinação (R²) representativo da relação entre variáveis.\n",
        "\n",
        "**Melhorias possíveis:**\n",
        "- Incluir variáveis sazonais como mês ou estação do ano.\n",
        "- Utilizar mais dados históricos para melhorar a robustez do modelo.\n",
        "- Explorar modelos mais complexos como regressão polinomial, Ridge ou Lasso."
      ]
    }
  ],
  "metadata": {
    "colab": {
      "provenance": [],
      "collapsed_sections": [
        "vcI3qFXVHzBE",
        "5SnhxToZH8_w",
        "E8VTf6_2IV-u",
        "0a0DEgyjIvTG",
        "Db-wYaOnIzli",
        "92jMVOu9P993",
        "f_M6U797JNzl"
      ],
      "toc_visible": true
    },
    "language_info": {
      "name": "python"
    },
    "kernelspec": {
      "name": "python3",
      "display_name": "Python 3"
    }
  },
  "nbformat": 4,
  "nbformat_minor": 5
}